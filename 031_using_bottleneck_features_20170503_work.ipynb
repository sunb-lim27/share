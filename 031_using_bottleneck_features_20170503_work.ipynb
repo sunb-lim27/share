{
 "cells": [
  {
   "cell_type": "markdown",
   "metadata": {
    "toc": "true"
   },
   "source": [
    "# Table of Contents\n",
    " <p><div class=\"lev1 toc-item\"><a href=\"#VGG19-모델-및-Weight-불러-와서-모델-생성\" data-toc-modified-id=\"VGG19-모델-및-Weight-불러-와서-모델-생성-1\"><span class=\"toc-item-num\">1&nbsp;&nbsp;</span>VGG19 모델 및 Weight 불러 와서 모델 생성</a></div><div class=\"lev2 toc-item\"><a href=\"#Bottleneck-Feature-생성\" data-toc-modified-id=\"Bottleneck-Feature-생성-11\"><span class=\"toc-item-num\">1.1&nbsp;&nbsp;</span>Bottleneck Feature 생성</a></div><div class=\"lev2 toc-item\"><a href=\"#Bottleneck-Feature-저장\" data-toc-modified-id=\"Bottleneck-Feature-저장-12\"><span class=\"toc-item-num\">1.2&nbsp;&nbsp;</span>Bottleneck Feature 저장</a></div><div class=\"lev1 toc-item\"><a href=\"#Transfer-Learning\" data-toc-modified-id=\"Transfer-Learning-2\"><span class=\"toc-item-num\">2&nbsp;&nbsp;</span>Transfer Learning</a></div><div class=\"lev2 toc-item\"><a href=\"#FC레이어-변경\" data-toc-modified-id=\"FC레이어-변경-21\"><span class=\"toc-item-num\">2.1&nbsp;&nbsp;</span>FC레이어 변경</a></div><div class=\"lev2 toc-item\"><a href=\"#모델-다시-생성\" data-toc-modified-id=\"모델-다시-생성-22\"><span class=\"toc-item-num\">2.2&nbsp;&nbsp;</span>모델 다시 생성</a></div><div class=\"lev2 toc-item\"><a href=\"#모델-다시-학습\" data-toc-modified-id=\"모델-다시-학습-23\"><span class=\"toc-item-num\">2.3&nbsp;&nbsp;</span>모델 다시 학습</a></div><div class=\"lev1 toc-item\"><a href=\"#Fine-Tuning\" data-toc-modified-id=\"Fine-Tuning-3\"><span class=\"toc-item-num\">3&nbsp;&nbsp;</span>Fine Tuning</a></div>"
   ]
  },
  {
   "cell_type": "code",
   "execution_count": 1,
   "metadata": {
    "ExecuteTime": {
     "end_time": "2017-05-03T20:31:40.039307Z",
     "start_time": "2017-05-03T20:31:27.469041Z"
    }
   },
   "outputs": [
    {
     "name": "stdout",
     "output_type": "stream",
     "text": [
      "TensorFLow Version:1.1.0\n"
     ]
    },
    {
     "name": "stderr",
     "output_type": "stream",
     "text": [
      "Using TensorFlow backend.\n"
     ]
    },
    {
     "name": "stdout",
     "output_type": "stream",
     "text": [
      "Keras Version:2.0.3\n"
     ]
    }
   ],
   "source": [
    "import tensorflow as tf; print(\"TensorFLow Version:\"+str(tf.__version__))\n",
    "import keras; print(\"Keras Version:\"+str(keras.__version__))"
   ]
  },
  {
   "cell_type": "code",
   "execution_count": 2,
   "metadata": {
    "ExecuteTime": {
     "end_time": "2017-05-03T20:31:40.052010Z",
     "start_time": "2017-05-03T20:31:40.044613Z"
    },
    "collapsed": true
   },
   "outputs": [],
   "source": [
    "import os\n",
    "import h5py\n",
    "import numpy as np\n",
    "from keras.preprocessing.image import ImageDataGenerator\n",
    "from keras.models import Sequential, Model \n",
    "from keras.layers import Convolution2D, MaxPooling2D, ZeroPadding2D\n",
    "from keras.layers import Activation, Dropout, Flatten, Dense"
   ]
  },
  {
   "cell_type": "code",
   "execution_count": null,
   "metadata": {
    "collapsed": true
   },
   "outputs": [],
   "source": [
    "from keras import optimizers\n",
    "from keras.layers import Dropout, Flatten, Dense, GlobalAveragePooling2D\n",
    "from keras import backend as k \n",
    "from keras.callbacks import ModelCheckpoint, LearningRateScheduler, TensorBoard, EarlyStopping"
   ]
  },
  {
   "cell_type": "code",
   "execution_count": 4,
   "metadata": {
    "ExecuteTime": {
     "end_time": "2017-05-03T20:31:40.075503Z",
     "start_time": "2017-05-03T20:31:40.069069Z"
    },
    "collapsed": true
   },
   "outputs": [],
   "source": [
    "# path to the model weights file.\n",
    "#weights_path = 'vgg16_weights.h5'\n",
    "top_model_weights_path = 'bottleneck_fc_model.h5'\n",
    "# dimensions of our images.\n",
    "img_width, img_height = 150, 150\n",
    "\n",
    "train_data_dir = 'dog-cat/train'\n",
    "validation_data_dir = 'dog-cat/val'\n",
    "nb_train_samples = 3611 * 2\n",
    "nb_validation_samples = 444 * 2\n",
    "nb_epoch = 20"
   ]
  },
  {
   "cell_type": "markdown",
   "metadata": {},
   "source": [
    "# VGG19 모델 및 Weight 불러 와서 모델 생성"
   ]
  },
  {
   "cell_type": "code",
   "execution_count": 5,
   "metadata": {
    "ExecuteTime": {
     "end_time": "2017-05-03T20:31:46.324111Z",
     "start_time": "2017-05-03T20:31:40.564129Z"
    }
   },
   "outputs": [
    {
     "name": "stdout",
     "output_type": "stream",
     "text": [
      "_________________________________________________________________\n",
      "Layer (type)                 Output Shape              Param #   \n",
      "=================================================================\n",
      "input_1 (InputLayer)         (None, 150, 150, 3)       0         \n",
      "_________________________________________________________________\n",
      "block1_conv1 (Conv2D)        (None, 150, 150, 64)      1792      \n",
      "_________________________________________________________________\n",
      "block1_conv2 (Conv2D)        (None, 150, 150, 64)      36928     \n",
      "_________________________________________________________________\n",
      "block1_pool (MaxPooling2D)   (None, 75, 75, 64)        0         \n",
      "_________________________________________________________________\n",
      "block2_conv1 (Conv2D)        (None, 75, 75, 128)       73856     \n",
      "_________________________________________________________________\n",
      "block2_conv2 (Conv2D)        (None, 75, 75, 128)       147584    \n",
      "_________________________________________________________________\n",
      "block2_pool (MaxPooling2D)   (None, 37, 37, 128)       0         \n",
      "_________________________________________________________________\n",
      "block3_conv1 (Conv2D)        (None, 37, 37, 256)       295168    \n",
      "_________________________________________________________________\n",
      "block3_conv2 (Conv2D)        (None, 37, 37, 256)       590080    \n",
      "_________________________________________________________________\n",
      "block3_conv3 (Conv2D)        (None, 37, 37, 256)       590080    \n",
      "_________________________________________________________________\n",
      "block3_conv4 (Conv2D)        (None, 37, 37, 256)       590080    \n",
      "_________________________________________________________________\n",
      "block3_pool (MaxPooling2D)   (None, 18, 18, 256)       0         \n",
      "_________________________________________________________________\n",
      "block4_conv1 (Conv2D)        (None, 18, 18, 512)       1180160   \n",
      "_________________________________________________________________\n",
      "block4_conv2 (Conv2D)        (None, 18, 18, 512)       2359808   \n",
      "_________________________________________________________________\n",
      "block4_conv3 (Conv2D)        (None, 18, 18, 512)       2359808   \n",
      "_________________________________________________________________\n",
      "block4_conv4 (Conv2D)        (None, 18, 18, 512)       2359808   \n",
      "_________________________________________________________________\n",
      "block4_pool (MaxPooling2D)   (None, 9, 9, 512)         0         \n",
      "_________________________________________________________________\n",
      "block5_conv1 (Conv2D)        (None, 9, 9, 512)         2359808   \n",
      "_________________________________________________________________\n",
      "block5_conv2 (Conv2D)        (None, 9, 9, 512)         2359808   \n",
      "_________________________________________________________________\n",
      "block5_conv3 (Conv2D)        (None, 9, 9, 512)         2359808   \n",
      "_________________________________________________________________\n",
      "block5_conv4 (Conv2D)        (None, 9, 9, 512)         2359808   \n",
      "_________________________________________________________________\n",
      "block5_pool (MaxPooling2D)   (None, 4, 4, 512)         0         \n",
      "=================================================================\n",
      "Total params: 20,024,384\n",
      "Trainable params: 20,024,384\n",
      "Non-trainable params: 0\n",
      "_________________________________________________________________\n"
     ]
    }
   ],
   "source": [
    "from keras import applications\n",
    "model = applications.VGG19(weights = \"imagenet\", include_top=False, input_shape = (img_width, img_height, 3))\n",
    "model.summary()"
   ]
  },
  {
   "cell_type": "code",
   "execution_count": 6,
   "metadata": {
    "ExecuteTime": {
     "end_time": "2017-05-03T20:31:46.332140Z",
     "start_time": "2017-05-03T20:31:46.329925Z"
    },
    "collapsed": true
   },
   "outputs": [],
   "source": [
    "datagen = ImageDataGenerator(rescale=1./255)"
   ]
  },
  {
   "cell_type": "code",
   "execution_count": 10,
   "metadata": {
    "ExecuteTime": {
     "end_time": "2017-05-03T20:58:51.337705Z",
     "start_time": "2017-05-03T20:58:51.270380Z"
    }
   },
   "outputs": [
    {
     "name": "stdout",
     "output_type": "stream",
     "text": [
      "Found 2222 images belonging to 2 classes.\n"
     ]
    }
   ],
   "source": [
    "generator = datagen.flow_from_directory(\n",
    "        train_data_dir,\n",
    "        target_size=(img_width, img_height),\n",
    "        batch_size=16,\n",
    "        class_mode=None,\n",
    "        shuffle=False)\n"
   ]
  },
  {
   "cell_type": "code",
   "execution_count": 11,
   "metadata": {
    "ExecuteTime": {
     "end_time": "2017-05-03T20:58:53.048405Z",
     "start_time": "2017-05-03T20:58:53.037102Z"
    }
   },
   "outputs": [
    {
     "name": "stdout",
     "output_type": "stream",
     "text": [
      "Found 222 images belonging to 2 classes.\n"
     ]
    }
   ],
   "source": [
    "generator = datagen.flow_from_directory(\n",
    "        validation_data_dir,\n",
    "        target_size=(img_width, img_height),\n",
    "        batch_size=16,\n",
    "        class_mode=None,\n",
    "        shuffle=False)"
   ]
  },
  {
   "cell_type": "markdown",
   "metadata": {},
   "source": [
    "## Bottleneck Feature 생성\n",
    "- model.fit() 학습 결과가 아닌 Predict값을 bottleneck Feature로 사용\n",
    "- ImageNet의 내용을 학습한 VGG19의 마지막 FC부분을 변경 하지 않았는데도 Predict하는게 의미가 있는가? "
   ]
  },
  {
   "cell_type": "code",
   "execution_count": 8,
   "metadata": {
    "ExecuteTime": {
     "end_time": "2017-05-03T20:55:58.874243Z",
     "start_time": "2017-05-03T20:31:50.364045Z"
    },
    "collapsed": true
   },
   "outputs": [],
   "source": [
    "bottleneck_features_train = model.predict_generator(generator, nb_train_samples)\n",
    "# 24분"
   ]
  },
  {
   "cell_type": "code",
   "execution_count": 12,
   "metadata": {
    "ExecuteTime": {
     "end_time": "2017-05-03T21:01:56.640781Z",
     "start_time": "2017-05-03T20:59:00.781406Z"
    },
    "collapsed": true
   },
   "outputs": [],
   "source": [
    "bottleneck_features_validation = model.predict_generator(generator, nb_validation_samples)\n",
    "# 2분"
   ]
  },
  {
   "cell_type": "markdown",
   "metadata": {
    "collapsed": true
   },
   "source": [
    "## Bottleneck Feature 저장"
   ]
  },
  {
   "cell_type": "code",
   "execution_count": 13,
   "metadata": {
    "ExecuteTime": {
     "end_time": "2017-05-03T21:02:14.083957Z",
     "start_time": "2017-05-03T21:02:10.641698Z"
    },
    "collapsed": true
   },
   "outputs": [],
   "source": [
    "np.save(open('bottleneck_features_train.npy', 'wb'), bottleneck_features_train)\n",
    "np.save(open('bottleneck_features_validation.npy', 'wb'), bottleneck_features_validation)"
   ]
  },
  {
   "cell_type": "markdown",
   "metadata": {},
   "source": [
    "# Transfer Learning"
   ]
  },
  {
   "cell_type": "code",
   "execution_count": 14,
   "metadata": {
    "ExecuteTime": {
     "end_time": "2017-05-03T21:02:21.259263Z",
     "start_time": "2017-05-03T21:02:17.323751Z"
    },
    "collapsed": true
   },
   "outputs": [],
   "source": [
    "train_data = np.load(open('bottleneck_features_train.npy', 'rb'))\n",
    "train_labels = np.array([0] * int(nb_train_samples / 2) + [1] * int(nb_train_samples / 2))\n",
    "\n",
    "validation_data = np.load(open('bottleneck_features_validation.npy', 'rb'))\n",
    "validation_labels = np.array([0] * int(nb_validation_samples / 2) + [1] * int(nb_validation_samples / 2))\n"
   ]
  },
  {
   "cell_type": "markdown",
   "metadata": {},
   "source": [
    "## FC레이어 변경"
   ]
  },
  {
   "cell_type": "code",
   "execution_count": 18,
   "metadata": {
    "ExecuteTime": {
     "end_time": "2017-05-03T21:03:18.892415Z",
     "start_time": "2017-05-03T21:03:18.851751Z"
    },
    "collapsed": true
   },
   "outputs": [],
   "source": [
    "model = Sequential()\n",
    "model.add(Flatten(input_shape=train_data.shape[1:]))\n",
    "model.add(Dense(256, activation='relu'))\n",
    "model.add(Dropout(0.5))\n",
    "model.add(Dense(1, activation='sigmoid'))\n",
    "\n"
   ]
  },
  {
   "cell_type": "markdown",
   "metadata": {},
   "source": [
    "## 모델 다시 생성"
   ]
  },
  {
   "cell_type": "code",
   "execution_count": 19,
   "metadata": {
    "ExecuteTime": {
     "end_time": "2017-05-03T21:03:38.954018Z",
     "start_time": "2017-05-03T21:03:38.923806Z"
    },
    "collapsed": true
   },
   "outputs": [],
   "source": [
    "model.compile(optimizer='rmsprop', loss='binary_crossentropy', metrics=['accuracy'])\n",
    "\n"
   ]
  },
  {
   "cell_type": "markdown",
   "metadata": {},
   "source": [
    "## 모델 다시 학습"
   ]
  },
  {
   "cell_type": "code",
   "execution_count": 45,
   "metadata": {
    "ExecuteTime": {
     "end_time": "2017-05-03T21:15:22.223053Z",
     "start_time": "2017-05-03T21:14:04.623668Z"
    }
   },
   "outputs": [
    {
     "name": "stderr",
     "output_type": "stream",
     "text": [
      "/usr/local/lib/python3.5/dist-packages/keras/models.py:834: UserWarning: The `nb_epoch` argument in `fit` has been renamed `epochs`.\n",
      "  warnings.warn('The `nb_epoch` argument in `fit` '\n"
     ]
    },
    {
     "name": "stdout",
     "output_type": "stream",
     "text": [
      "Train on 7222 samples, validate on 888 samples\n",
      "Epoch 1/20\n",
      "7222/7222 [==============================] - 6s - loss: 0.7877 - acc: 0.5079 - val_loss: 0.6936 - val_acc: 0.5000\n",
      "Epoch 2/20\n",
      "7222/7222 [==============================] - 3s - loss: 0.6942 - acc: 0.5079 - val_loss: 0.6934 - val_acc: 0.5000\n",
      "Epoch 3/20\n",
      "7222/7222 [==============================] - 3s - loss: 0.6932 - acc: 0.5141 - val_loss: 0.6941 - val_acc: 0.5000\n",
      "Epoch 4/20\n",
      "7222/7222 [==============================] - 3s - loss: 0.6931 - acc: 0.5087 - val_loss: 0.6947 - val_acc: 0.5000\n",
      "Epoch 5/20\n",
      "7222/7222 [==============================] - 3s - loss: 0.6922 - acc: 0.5213 - val_loss: 0.6935 - val_acc: 0.5000\n",
      "Epoch 6/20\n",
      "7222/7222 [==============================] - 3s - loss: 0.6931 - acc: 0.5152 - val_loss: 0.6936 - val_acc: 0.5000\n",
      "Epoch 7/20\n",
      "7222/7222 [==============================] - 3s - loss: 0.6917 - acc: 0.5173 - val_loss: 0.6943 - val_acc: 0.5000\n",
      "Epoch 8/20\n",
      "7222/7222 [==============================] - 3s - loss: 0.6918 - acc: 0.5183 - val_loss: 0.6940 - val_acc: 0.5000\n",
      "Epoch 9/20\n",
      "7222/7222 [==============================] - 3s - loss: 0.6917 - acc: 0.5249 - val_loss: 0.6945 - val_acc: 0.5000\n",
      "Epoch 10/20\n",
      "7222/7222 [==============================] - 3s - loss: 0.6914 - acc: 0.5248 - val_loss: 0.6938 - val_acc: 0.5000\n",
      "Epoch 11/20\n",
      "7222/7222 [==============================] - 3s - loss: 0.6914 - acc: 0.5289 - val_loss: 0.6936 - val_acc: 0.5000\n",
      "Epoch 12/20\n",
      "7222/7222 [==============================] - 3s - loss: 0.6919 - acc: 0.5208 - val_loss: 0.6950 - val_acc: 0.5000\n",
      "Epoch 13/20\n",
      "7222/7222 [==============================] - 3s - loss: 0.6906 - acc: 0.5302 - val_loss: 0.6956 - val_acc: 0.5000\n",
      "Epoch 14/20\n",
      "7222/7222 [==============================] - 3s - loss: 0.6921 - acc: 0.5220 - val_loss: 0.6938 - val_acc: 0.5000\n",
      "Epoch 15/20\n",
      "7222/7222 [==============================] - 3s - loss: 0.6914 - acc: 0.5244 - val_loss: 0.6942 - val_acc: 0.5000\n",
      "Epoch 16/20\n",
      "7222/7222 [==============================] - 3s - loss: 0.6918 - acc: 0.5241 - val_loss: 0.6939 - val_acc: 0.5000\n",
      "Epoch 17/20\n",
      "7222/7222 [==============================] - 3s - loss: 0.6906 - acc: 0.5264 - val_loss: 0.6959 - val_acc: 0.5000\n",
      "Epoch 18/20\n",
      "7222/7222 [==============================] - 3s - loss: 0.6903 - acc: 0.5295 - val_loss: 0.7002 - val_acc: 0.5000\n",
      "Epoch 19/20\n",
      "7222/7222 [==============================] - 3s - loss: 0.6905 - acc: 0.5331 - val_loss: 0.6966 - val_acc: 0.5000\n",
      "Epoch 20/20\n",
      "7222/7222 [==============================] - 3s - loss: 0.6898 - acc: 0.5316 - val_loss: 0.6939 - val_acc: 0.5000\n"
     ]
    },
    {
     "data": {
      "text/plain": [
       "<keras.callbacks.History at 0x7fccb20ec978>"
      ]
     },
     "execution_count": 45,
     "metadata": {},
     "output_type": "execute_result"
    }
   ],
   "source": [
    "# data와 라벨수 강제 맞춤 \n",
    "\n",
    "x = train_data[1:7223,:,:,:]\n",
    "y = validation_data[0:888,:,:,:]\n",
    "\n",
    "\n",
    "model.fit(x, train_labels, #train_data, train_labels,\n",
    "          nb_epoch=nb_epoch, batch_size=16,\n",
    "          validation_data=(y, validation_labels)) #validation_data=(validation_data, validation_labels))\n",
    "#1분 17초"
   ]
  },
  {
   "cell_type": "code",
   "execution_count": 46,
   "metadata": {
    "ExecuteTime": {
     "end_time": "2017-05-03T21:15:42.400374Z",
     "start_time": "2017-05-03T21:15:42.361631Z"
    },
    "collapsed": true
   },
   "outputs": [],
   "source": [
    "model.save_weights(top_model_weights_path)"
   ]
  },
  {
   "cell_type": "markdown",
   "metadata": {
    "collapsed": true
   },
   "source": [
    "# Fine Tuning\n",
    "- 위처럼 마지막 FC만 변경을 하였을때는 Fine Tuning을 하지 않음\n",
    "- 아래처럼 특정 레이어를 오픈 하였을때는 fine Tuning을 수행 ??\n",
    "- Fine Tuning을 하려면 위처럼 FC만 변경한 weight값이 있어야 함 ?? OR 그냥 FC변경 안한 FC만 있으면 됨??"
   ]
  },
  {
   "cell_type": "code",
   "execution_count": null,
   "metadata": {
    "collapsed": true
   },
   "outputs": [],
   "source": []
  },
  {
   "cell_type": "code",
   "execution_count": null,
   "metadata": {
    "collapsed": true
   },
   "outputs": [],
   "source": []
  },
  {
   "cell_type": "code",
   "execution_count": null,
   "metadata": {
    "collapsed": true
   },
   "outputs": [],
   "source": []
  },
  {
   "cell_type": "code",
   "execution_count": null,
   "metadata": {
    "collapsed": true
   },
   "outputs": [],
   "source": []
  },
  {
   "cell_type": "code",
   "execution_count": null,
   "metadata": {
    "collapsed": true
   },
   "outputs": [],
   "source": []
  },
  {
   "cell_type": "code",
   "execution_count": null,
   "metadata": {
    "collapsed": true
   },
   "outputs": [],
   "source": []
  },
  {
   "cell_type": "code",
   "execution_count": null,
   "metadata": {
    "collapsed": true
   },
   "outputs": [],
   "source": []
  }
 ],
 "metadata": {
  "kernelspec": {
   "display_name": "Python 3",
   "language": "python",
   "name": "python3"
  },
  "language_info": {
   "codemirror_mode": {
    "name": "ipython",
    "version": 3
   },
   "file_extension": ".py",
   "mimetype": "text/x-python",
   "name": "python",
   "nbconvert_exporter": "python",
   "pygments_lexer": "ipython3",
   "version": "3.5.2"
  },
  "toc": {
   "colors": {
    "hover_highlight": "#DAA520",
    "navigate_num": "#000000",
    "navigate_text": "#333333",
    "running_highlight": "#FF0000",
    "selected_highlight": "#FFD700",
    "sidebar_border": "#EEEEEE",
    "wrapper_background": "#FFFFFF"
   },
   "moveMenuLeft": true,
   "nav_menu": {
    "height": "12px",
    "width": "252px"
   },
   "navigate_menu": true,
   "number_sections": true,
   "sideBar": true,
   "threshold": 4,
   "toc_cell": true,
   "toc_section_display": "block",
   "toc_window_display": false,
   "widenNotebook": false
  },
  "varInspector": {
   "cols": {
    "lenName": 16,
    "lenType": 16,
    "lenVar": 40
   },
   "kernels_config": {
    "python": {
     "delete_cmd_postfix": "",
     "delete_cmd_prefix": "del ",
     "library": "var_list.py",
     "varRefreshCmd": "print(var_dic_list())"
    },
    "r": {
     "delete_cmd_postfix": ") ",
     "delete_cmd_prefix": "rm(",
     "library": "var_list.r",
     "varRefreshCmd": "cat(var_dic_list()) "
    }
   },
   "oldHeight": 698,
   "position": {
    "height": "40px",
    "left": "1427px",
    "right": "20px",
    "top": "68px",
    "width": "410px"
   },
   "types_to_exclude": [
    "module",
    "function",
    "builtin_function_or_method",
    "instance",
    "_Feature"
   ],
   "varInspector_section_display": "none",
   "window_display": true
  }
 },
 "nbformat": 4,
 "nbformat_minor": 2
}
